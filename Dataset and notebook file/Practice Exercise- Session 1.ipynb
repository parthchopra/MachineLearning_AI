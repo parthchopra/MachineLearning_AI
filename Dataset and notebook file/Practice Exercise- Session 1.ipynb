{
 "cells": [
  {
   "cell_type": "code",
   "execution_count": 2,
   "metadata": {},
   "outputs": [],
   "source": [
    "#Import all the necessary libraries\n",
    "\n",
    "import pandas as pd\n",
    "import numpy as np\n",
    "import matplotlib.pyplot as plt"
   ]
  },
  {
   "cell_type": "markdown",
   "metadata": {},
   "source": [
    "### I - Virat Kohli Dataset"
   ]
  },
  {
   "cell_type": "code",
   "execution_count": 12,
   "metadata": {},
   "outputs": [],
   "source": [
    "df = pd.read_csv(\"virat.csv\")"
   ]
  },
  {
   "cell_type": "markdown",
   "metadata": {},
   "source": [
    "#### Spread in Runs\n",
    "Question 1: Analyse the spread of Runs scored by Virat in all his matches and report the difference between the scores at the 50th percentile and the 25th percentile respectively.\n",
    "\n",
    "    a)16.5\n",
    "    b)22.5\n",
    "    c)26.5\n",
    "    d)32.5\n",
    "\n"
   ]
  },
  {
   "cell_type": "code",
   "execution_count": 22,
   "metadata": {},
   "outputs": [
    {
     "data": {
      "text/plain": [
       "22.5"
      ]
     },
     "execution_count": 22,
     "metadata": {},
     "output_type": "execute_result"
    }
   ],
   "source": [
    "#Your code here\n",
    "df.Runs.describe()\n",
    "df.Runs.value_counts()\n",
    "#df.Runs = df.Runs.str.replace('*', '')\n",
    "#df.Runs = df.Runs.astype(int)\n",
    "df.Runs.quantile(0.5) - df.Runs.quantile(0.25)"
   ]
  },
  {
   "cell_type": "markdown",
   "metadata": {},
   "source": [
    "#### False Statement\n",
    "\n",
    "Q2:Consider the following statements and choose the correct option\n",
    "\n",
    "     I - Virat has played the maximum number of matches in 2011\n",
    "     II - Virat has the highest run average in the year 2017\n",
    "     III - Virat has the maximum score in a single match and the highest run average in the year 2016.\n",
    "\n",
    "Which of the above statements is/are false?\n",
    "\n",
    "    a)I and II\n",
    "    b)I and III\n",
    "    c)II\n",
    "    d)III\n",
    "\n"
   ]
  },
  {
   "cell_type": "code",
   "execution_count": 41,
   "metadata": {},
   "outputs": [
    {
     "data": {
      "text/html": [
       "<div>\n",
       "<style scoped>\n",
       "    .dataframe tbody tr th:only-of-type {\n",
       "        vertical-align: middle;\n",
       "    }\n",
       "\n",
       "    .dataframe tbody tr th {\n",
       "        vertical-align: top;\n",
       "    }\n",
       "\n",
       "    .dataframe thead th {\n",
       "        text-align: right;\n",
       "    }\n",
       "</style>\n",
       "<table border=\"1\" class=\"dataframe\">\n",
       "  <thead>\n",
       "    <tr style=\"text-align: right;\">\n",
       "      <th></th>\n",
       "      <th>Runs</th>\n",
       "      <th>Mins</th>\n",
       "      <th>BF</th>\n",
       "      <th>4s</th>\n",
       "      <th>6s</th>\n",
       "      <th>SR</th>\n",
       "      <th>Pos</th>\n",
       "      <th>Dismissal</th>\n",
       "      <th>Inns</th>\n",
       "      <th>Opposition</th>\n",
       "      <th>Ground</th>\n",
       "      <th>Start Date</th>\n",
       "    </tr>\n",
       "  </thead>\n",
       "  <tbody>\n",
       "    <tr>\n",
       "      <th>126</th>\n",
       "      <td>154</td>\n",
       "      <td>202</td>\n",
       "      <td>134</td>\n",
       "      <td>16</td>\n",
       "      <td>1</td>\n",
       "      <td>114.92</td>\n",
       "      <td>3</td>\n",
       "      <td>not out</td>\n",
       "      <td>2</td>\n",
       "      <td>v New Zealand</td>\n",
       "      <td>Mohali</td>\n",
       "      <td>2016-10-23</td>\n",
       "    </tr>\n",
       "  </tbody>\n",
       "</table>\n",
       "</div>"
      ],
      "text/plain": [
       "     Runs Mins   BF  4s  6s      SR  Pos Dismissal  Inns     Opposition  \\\n",
       "126   154  202  134  16   1  114.92    3   not out     2  v New Zealand   \n",
       "\n",
       "     Ground Start Date  \n",
       "126  Mohali 2016-10-23  "
      ]
     },
     "execution_count": 41,
     "metadata": {},
     "output_type": "execute_result"
    },
    {
     "data": {
      "image/png": "[encoded data removed]",
      "text/plain": [
       "<Figure size 432x288 with 1 Axes>"
      ]
     },
     "metadata": {
      "needs_background": "light"
     },
     "output_type": "display_data"
    },
    {
     "data": {
      "image/png": "[encoded data removed]",
      "text/plain": [
       "<Figure size 432x288 with 1 Axes>"
      ]
     },
     "metadata": {
      "needs_background": "light"
     },
     "output_type": "display_data"
    }
   ],
   "source": [
    "#Your code here\n",
    "#df['Start Date'] = pd.to_datetime(df['Start Date'], infer_datetime_format=True)\n",
    "\n",
    "df.groupby(df[\"Start Date\"].dt.year).count().plot(kind=\"bar\")\n",
    "df[[\"Start Date\", \"Runs\"]].groupby(df[\"Start Date\"].dt.year).mean().plot(kind=\"bar\")\n",
    "df[df.Runs == df.Runs.max()]"
   ]
  },
  {
   "cell_type": "markdown",
   "metadata": {},
   "source": [
    "#### Highest Frequency\n",
    "Q3:Next, Next, from the following options choose the range in which he has scored more frequently or highest number of times.\n",
    "\n",
    "    a)[72,83)\n",
    "    b)[83,91)\n",
    "    c)[92,102)\n",
    "    d)He has scored an equal number of times in all the above run brackets.\n",
    "\n"
   ]
  },
  {
   "cell_type": "code",
   "execution_count": 54,
   "metadata": {},
   "outputs": [
    {
     "data": {
      "text/plain": [
       "<matplotlib.axes._subplots.AxesSubplot at 0x7fa8885fa890>"
      ]
     },
     "execution_count": 54,
     "metadata": {},
     "output_type": "execute_result"
    },
    {
     "data": {
      "image/png": "[encoded data removed]",
      "text/plain": [
       "<Figure size 432x288 with 1 Axes>"
      ]
     },
     "metadata": {
      "needs_background": "light"
     },
     "output_type": "display_data"
    }
   ],
   "source": [
    "#Your code here\n",
    "#df['Start Date']= df['Start Date'].apply(lambda x: x.year)\n",
    "#df['Start Date'].value_counts()\n",
    "#pd.pivot_table(df, values='Runs',columns=['Start Date'], aggfunc=np.mean)\n",
    "#pd.pivot_table(df, values='Runs',columns=['Start Date'], aggfunc=np.max)\n",
    "df.Runs.plot.hist(range = [72,103], bins = 3)"
   ]
  },
  {
   "cell_type": "markdown",
   "metadata": {},
   "source": [
    "#### Maximum Frequency\n",
    "\n",
    "Q4:Plot a histogram for the Mins column with 15 bins and report the range having the maximum frequency amongst the given options\n",
    "\n",
    "    a)[54.6,68)\n",
    "    b)[68,81.4)\n",
    "    c)[121.6,135)\n",
    "    d)All the bin ranges have the same frequency\n"
   ]
  },
  {
   "cell_type": "code",
   "execution_count": 68,
   "metadata": {},
   "outputs": [
    {
     "name": "stdout",
     "output_type": "stream",
     "text": [
      "7\n",
      "6\n",
      "12\n"
     ]
    }
   ],
   "source": [
    "#Your code here\n",
    "#df = df[df.Mins != '-']\n",
    "#df.Mins = df.Mins.astype(int)\n",
    "#df.Mins.plot.hist(bins = 15)\n",
    "print(len(df[df.Mins.between(54.6, 68)]))\n",
    "print(len(df[df.Mins.between(68, 81.4)]))\n",
    "print(len(df[df.Mins.between(121.6, 135)]))"
   ]
  },
  {
   "cell_type": "markdown",
   "metadata": {},
   "source": [
    "#### Correct Statements\n",
    "Q5:Using the modified dataset from the previous question(i.e. It doesn’t contain the rows having an incorrect Mins value), plot box plots of the runs scored by Virat in matches against Sri Lanka, Australia and England. Now consider the following statements:\n",
    "\n",
    "      1 - Virat has scored pretty similarly against both Australia and England.\n",
    "      2 - The highest score by Virat is against Sri Lanka.\n",
    "      3 - Amongst the three countries, the highest value at the upper fence occurs for Sri Lanka.\n",
    "      4 -Australia’s IQR is the widest.\n",
    "\n",
    "  Which of the above statements are correct?\n",
    "  \n",
    "       a) 1, 2 and 4\n",
    "       b) 1, 2 and 3\n",
    "       c) 2 and 4\n",
    "       d) 1 and 2\n",
    "\n"
   ]
  },
  {
   "cell_type": "code",
   "execution_count": 86,
   "metadata": {},
   "outputs": [
    {
     "data": {
      "image/png": "[encoded data removed]",
      "text/plain": [
       "<Figure size 432x288 with 1 Axes>"
      ]
     },
     "metadata": {
      "needs_background": "light"
     },
     "output_type": "display_data"
    }
   ],
   "source": [
    "#Your code here\n",
    "#df.Opposition = df.Opposition.apply(lambda x: x[1:])\n",
    "df_Sri = df[df.Opposition == 'Sri Lanka'].Runs\n",
    "df_Aus = df[df.Opposition == 'Australia'].Runs\n",
    "df_Eng = df[df.Opposition == 'England'].Runs\n",
    "plt.boxplot([df_Sri, df_Aus, df_Eng])\n",
    "plt.xticks((1,2,3),[\"Sri\", \"Aus\", \"Eng\"])\n",
    "plt.show()"
   ]
  },
  {
   "cell_type": "markdown",
   "metadata": {},
   "source": [
    "#### True Statements\n",
    "Q6) From the same modified dataset as the previous question, create both box plot and histogram(take the number of bins as 3) as sub-plots for all the run scores in which the mode of dismissal was ‘lbw’. Now consider the following statements:\n",
    "\n",
    "    I - The box-plot shows one outlier lying outside the fence at the score of 75\n",
    "    II - The maximum frequency of scores lie between [20-41)\n",
    "    III- The median score lies between 30-40\n",
    "\n",
    "Which of the above statements is/are true?\n",
    "\n",
    "\n",
    "    a)I\n",
    "    b)I and II\n",
    "    c)II\n",
    "    d)II and III"
   ]
  },
  {
   "cell_type": "code",
   "execution_count": 95,
   "metadata": {},
   "outputs": [
    {
     "data": {
      "text/plain": [
       "(array([3., 4., 2.]),\n",
       " array([ 0.        , 20.33333333, 40.66666667, 61.        ]),\n",
       " <a list of 3 Patch objects>)"
      ]
     },
     "execution_count": 95,
     "metadata": {},
     "output_type": "execute_result"
    },
    {
     "data": {
      "image/png": "[encoded data removed]",
      "text/plain": [
       "<Figure size 432x288 with 2 Axes>"
      ]
     },
     "metadata": {
      "needs_background": "light"
     },
     "output_type": "display_data"
    }
   ],
   "source": [
    "#Your code here\n",
    "lbw = df[df.Dismissal == \"lbw\"].Runs\n",
    "#df[df.Dismissal == \"lbw\"].Runs.max()\n",
    "#df[df.Dismissal == \"lbw\"].Runs.plot.hist(bins = 3)\n",
    "#df[df.Dismissal == \"lbw\"].Runs.describe()\n",
    "fig, ax = plt.subplots(ncols=2)\n",
    "\n",
    "ax[0].boxplot(lbw)\n",
    "ax[1].hist(lbw,bins = 3)"
   ]
  },
  {
   "cell_type": "code",
   "execution_count": null,
   "metadata": {},
   "outputs": [],
   "source": []
  },
  {
   "cell_type": "code",
   "execution_count": null,
   "metadata": {},
   "outputs": [],
   "source": []
  },
  {
   "cell_type": "code",
   "execution_count": null,
   "metadata": {},
   "outputs": [],
   "source": []
  },
  {
   "cell_type": "code",
   "execution_count": null,
   "metadata": {},
   "outputs": [],
   "source": []
  },
  {
   "cell_type": "code",
   "execution_count": null,
   "metadata": {},
   "outputs": [],
   "source": []
  },
  {
   "cell_type": "code",
   "execution_count": null,
   "metadata": {},
   "outputs": [],
   "source": []
  },
  {
   "cell_type": "markdown",
   "metadata": {},
   "source": [
    "### II -  Discounts dataset "
   ]
  },
  {
   "cell_type": "code",
   "execution_count": 124,
   "metadata": {},
   "outputs": [],
   "source": [
    "df2 = pd.read_csv(\"spd.csv\")"
   ]
  },
  {
   "cell_type": "markdown",
   "metadata": {},
   "source": [
    "#### Null Values\n",
    "Q1. Find the number of null values in each of the columns and delete all the entries having null values.\n",
    "    \n",
    "    a) Sales - 17; Profits - 19; Discounts - 22\n",
    "    b) Sales - 17; Profits - 22; Discounts - 19\n",
    "    c) Sales - 19; Profits - 22; Discounts - 17\n",
    "    d) Sales - 22; Profits - 19; Discounts - 17\n"
   ]
  },
  {
   "cell_type": "code",
   "execution_count": 140,
   "metadata": {},
   "outputs": [],
   "source": [
    "#Your code here\n",
    "#df2 = df2[~df2.Discounts.isna()]\n",
    "\n",
    "#df2.isna().sum()\n",
    "#df2[~df2.Sales.str.isnumeric()]\n",
    "#df2.Discounts = df2.Discounts.str.replace('@', '').str.replace('$', '').str.replace('%', '').str.replace('*', '').str.replace('&', '')\n",
    "#df2\n",
    "df2.Profits = df2.Profits.astype(float)"
   ]
  },
  {
   "cell_type": "markdown",
   "metadata": {},
   "source": [
    "#### Incorrect Statements\n",
    "Q2. After you’ve removed the null values, clean the Sales column by replacing the bogus entries with the correct ones. After that, create a box-plot of all the products with Sales greater than 3000, and then consider the following statements:\n",
    "\n",
    "    I- The median value comes out to be between 2500-5000.\n",
    "    II- There are no outliers, i.e., values outside either fence for this box plot.\n",
    "    III- There are 3 entries having a Sales value greater than 15000.\n",
    "\n",
    "Which of the above statements is/are incorrect?\n",
    "\n",
    "    a)I\n",
    "    b)II and III\n",
    "    c)III\n",
    "    d)I and II\n",
    "\n",
    "\n",
    " "
   ]
  },
  {
   "cell_type": "code",
   "execution_count": 144,
   "metadata": {},
   "outputs": [
    {
     "data": {
      "text/plain": [
       "2697    22638.48\n",
       "6826    17499.95\n",
       "Name: Sales, dtype: float64"
      ]
     },
     "execution_count": 144,
     "metadata": {},
     "output_type": "execute_result"
    }
   ],
   "source": [
    "#Your code here\n",
    "#df2.info()\n",
    "df2[df2.Sales > 15000].Sales"
   ]
  },
  {
   "cell_type": "markdown",
   "metadata": {},
   "source": [
    "#### Box Plot\n",
    "Q3. Now that you’ve cleaned the bogus entries from the Sales column, go ahead and clean the Profits column as well. Note that there is no particular sequence to the characters here; however, the number of bogus characters in all the erroneous entries are the same. After that, create a boxplot of all the values that have Profits greater than 2000 and report back the approximate median value.\n",
    "    \n",
    "    a)3500\n",
    "    b)4500\n",
    "    c)2800\n",
    "    d)5500\n"
   ]
  },
  {
   "cell_type": "code",
   "execution_count": 145,
   "metadata": {},
   "outputs": [
    {
     "data": {
      "text/plain": [
       "<matplotlib.axes._subplots.AxesSubplot at 0x7fa8d92b2750>"
      ]
     },
     "execution_count": 145,
     "metadata": {},
     "output_type": "execute_result"
    },
    {
     "data": {
      "image/png": "[encoded data removed]",
      "text/plain": [
       "<Figure size 432x288 with 1 Axes>"
      ]
     },
     "metadata": {
      "needs_background": "light"
     },
     "output_type": "display_data"
    }
   ],
   "source": [
    "#Your code here\n",
    "df2[df2.Profits > 2000].Profits.plot.box()"
   ]
  },
  {
   "cell_type": "markdown",
   "metadata": {},
   "source": [
    "#### Clean Data\n",
    "\n",
    "Q4. Once you have cleaned this column, report back the total number of times either a discount of 0.5, 0.1 or 0.6 was given.\n",
    "\n",
    "    a)134\n",
    "    b)182\n",
    "    c)284\n",
    "    d)296\n"
   ]
  },
  {
   "cell_type": "code",
   "execution_count": 151,
   "metadata": {},
   "outputs": [
    {
     "data": {
      "text/plain": [
       "296"
      ]
     },
     "execution_count": 151,
     "metadata": {},
     "output_type": "execute_result"
    }
   ],
   "source": [
    "#Your code here\n",
    "len(df2[df2.Discounts == 0.5]) + len(df2[df2.Discounts == 0.6]) + len(df2[df2.Discounts == 0.1])"
   ]
  },
  {
   "cell_type": "code",
   "execution_count": null,
   "metadata": {},
   "outputs": [],
   "source": []
  },
  {
   "cell_type": "code",
   "execution_count": null,
   "metadata": {},
   "outputs": [],
   "source": []
  },
  {
   "cell_type": "code",
   "execution_count": null,
   "metadata": {},
   "outputs": [],
   "source": []
  }
 ],
 "metadata": {
  "kernelspec": {
   "display_name": "Python 3",
   "language": "python",
   "name": "python3"
  },
  "language_info": {
   "codemirror_mode": {
    "name": "ipython",
    "version": 3
   },
   "file_extension": ".py",
   "mimetype": "text/x-python",
   "name": "python",
   "nbconvert_exporter": "python",
   "pygments_lexer": "ipython3",
   "version": "3.7.4"
  }
 },
 "nbformat": 4,
 "nbformat_minor": 2
}
