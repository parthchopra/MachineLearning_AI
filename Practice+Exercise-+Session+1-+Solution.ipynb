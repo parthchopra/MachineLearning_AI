{
 "cells": [
  {
   "cell_type": "code",
   "execution_count": 1,
   "metadata": {},
   "outputs": [],
   "source": [
    "#Import all the necessary libraries\n",
    "\n",
    "import pandas as pd\n",
    "import numpy as np\n",
    "import matplotlib.pyplot as plt"
   ]
  },
  {
   "cell_type": "markdown",
   "metadata": {},
   "source": [
    "# I - Virat Kohli Dataset"
   ]
  },
  {
   "cell_type": "code",
   "execution_count": 2,
   "metadata": {},
   "outputs": [],
   "source": [
    "df = pd.read_csv(\"virat.csv\")"
   ]
  },
  {
   "cell_type": "markdown",
   "metadata": {},
   "source": [
    "Before we start solving questions, let us first clean the data "
   ]
  },
  {
   "cell_type": "code",
   "execution_count": 3,
   "metadata": {},
   "outputs": [
    {
     "name": "stdout",
     "output_type": "stream",
     "text": [
      "<class 'pandas.core.frame.DataFrame'>\n",
      "RangeIndex: 132 entries, 0 to 131\n",
      "Data columns (total 12 columns):\n",
      "Runs          132 non-null object\n",
      "Mins          132 non-null object\n",
      "BF            132 non-null int64\n",
      "4s            132 non-null int64\n",
      "6s            132 non-null int64\n",
      "SR            132 non-null object\n",
      "Pos           132 non-null int64\n",
      "Dismissal     132 non-null object\n",
      "Inns          132 non-null int64\n",
      "Opposition    132 non-null object\n",
      "Ground        132 non-null object\n",
      "Start Date    132 non-null object\n",
      "dtypes: int64(5), object(7)\n",
      "memory usage: 12.5+ KB\n"
     ]
    }
   ],
   "source": [
    "#runs have a * in some values denoting he was not out in that match, \n",
    "#this is making the column as object type and not int or float\n",
    "#let us first clean it\n",
    "df.info()"
   ]
  },
  {
   "cell_type": "code",
   "execution_count": 4,
   "metadata": {},
   "outputs": [],
   "source": [
    "#cleaning runs column\n",
    "df['Runs']= df['Runs'].apply(lambda x: int(x[:-1]) if x[-1]==\"*\" else int(x))"
   ]
  },
  {
   "cell_type": "markdown",
   "metadata": {},
   "source": [
    "### 1. Spread in Runs\n",
    "Question 1: Analyse the spread of Runs scored by Virat in all his matches and report the difference between the scores at the 50th percentile and the 25th percentile respectively.\n",
    "\n",
    "a)16.5\n",
    "\n",
    "$ \\color{green} {b) 22.5}$\n",
    "    \n",
    "c)26.5\n",
    "\n",
    "d)32.5\n",
    "\n"
   ]
  },
  {
   "cell_type": "code",
   "execution_count": 5,
   "metadata": {},
   "outputs": [
    {
     "data": {
      "text/plain": [
       "count    132.000000\n",
       "mean      46.848485\n",
       "std       41.994635\n",
       "min        0.000000\n",
       "25%       10.000000\n",
       "50%       32.500000\n",
       "100%     154.000000\n",
       "max      154.000000\n",
       "Name: Runs, dtype: float64"
      ]
     },
     "execution_count": 5,
     "metadata": {},
     "output_type": "execute_result"
    }
   ],
   "source": [
    "#Solution to Q1\n",
    "df['Runs'].describe(percentiles = [0.25,0.5,1])\n",
    "\n",
    "#we called the describe function only on the slice of whole df"
   ]
  },
  {
   "cell_type": "markdown",
   "metadata": {},
   "source": [
    "As you can see, answer will be __32.5-10= 22.5__"
   ]
  },
  {
   "cell_type": "markdown",
   "metadata": {},
   "source": [
    "### 2. False Statement\n",
    "\n",
    "Q2:Consider the following statements and choose the correct option\n",
    "\n",
    "I - Virat has played the maximum number of matches in 2011\n",
    " \n",
    "II - Virat has the highest run average in the year 2017\n",
    " \n",
    "III - Virat has the maximum score in a single match and the highest run average in the year 2016.\n",
    "\n",
    "\n",
    "Which of the above statements is/are false?\n",
    "\n",
    "a) I and II\n",
    "\n",
    "b) I and III\n",
    "\n",
    "$ \\color{green} {c)\\,II}$\n",
    "\n",
    "d) III\n",
    "\n"
   ]
  },
  {
   "cell_type": "code",
   "execution_count": 6,
   "metadata": {},
   "outputs": [
    {
     "data": {
      "text/plain": [
       "11    31\n",
       "13    23\n",
       "14    17\n",
       "10    16\n",
       "12    11\n",
       "16    10\n",
       "15    10\n",
       "09     6\n",
       "08     5\n",
       "17     3\n",
       "Name: Start Date, dtype: int64"
      ]
     },
     "execution_count": 6,
     "metadata": {},
     "output_type": "execute_result"
    }
   ],
   "source": [
    "#Solution for Q2\n",
    "#first we use only last two char in the string of Start Date to get the year\n",
    "df['Start Date']= df['Start Date'].apply(lambda x: (x[-2:]))\n",
    "#use value_counts()\n",
    "df['Start Date'].value_counts()"
   ]
  },
  {
   "cell_type": "markdown",
   "metadata": {},
   "source": [
    "Clearly statement I is __True__"
   ]
  },
  {
   "cell_type": "code",
   "execution_count": 7,
   "metadata": {},
   "outputs": [
    {
     "data": {
      "text/html": [
       "<div>\n",
       "<style scoped>\n",
       "    .dataframe tbody tr th:only-of-type {\n",
       "        vertical-align: middle;\n",
       "    }\n",
       "\n",
       "    .dataframe tbody tr th {\n",
       "        vertical-align: top;\n",
       "    }\n",
       "\n",
       "    .dataframe thead th {\n",
       "        text-align: right;\n",
       "    }\n",
       "</style>\n",
       "<table border=\"1\" class=\"dataframe\">\n",
       "  <thead>\n",
       "    <tr style=\"text-align: right;\">\n",
       "      <th>Start Date</th>\n",
       "      <th>08</th>\n",
       "      <th>09</th>\n",
       "      <th>10</th>\n",
       "      <th>11</th>\n",
       "      <th>12</th>\n",
       "      <th>13</th>\n",
       "      <th>14</th>\n",
       "      <th>15</th>\n",
       "      <th>16</th>\n",
       "      <th>17</th>\n",
       "    </tr>\n",
       "  </thead>\n",
       "  <tbody>\n",
       "    <tr>\n",
       "      <th>Runs</th>\n",
       "      <td>31.8</td>\n",
       "      <td>38.333333</td>\n",
       "      <td>45.375</td>\n",
       "      <td>42.0</td>\n",
       "      <td>40.363636</td>\n",
       "      <td>47.826087</td>\n",
       "      <td>58.529412</td>\n",
       "      <td>30.4</td>\n",
       "      <td>73.9</td>\n",
       "      <td>61.666667</td>\n",
       "    </tr>\n",
       "  </tbody>\n",
       "</table>\n",
       "</div>"
      ],
      "text/plain": [
       "Start Date    08         09      10    11         12         13         14  \\\n",
       "Runs        31.8  38.333333  45.375  42.0  40.363636  47.826087  58.529412   \n",
       "\n",
       "Start Date    15    16         17  \n",
       "Runs        30.4  73.9  61.666667  "
      ]
     },
     "execution_count": 7,
     "metadata": {},
     "output_type": "execute_result"
    }
   ],
   "source": [
    "#to check statement II we do\n",
    "pd.pivot_table(df, values='Runs',columns=['Start Date'], aggfunc=np.mean)\n"
   ]
  },
  {
   "cell_type": "markdown",
   "metadata": {},
   "source": [
    "We see mean of year 17 is 2nd highest, his average is more in 2016. Statement II is __False__"
   ]
  },
  {
   "cell_type": "code",
   "execution_count": 8,
   "metadata": {},
   "outputs": [
    {
     "data": {
      "text/html": [
       "<div>\n",
       "<style scoped>\n",
       "    .dataframe tbody tr th:only-of-type {\n",
       "        vertical-align: middle;\n",
       "    }\n",
       "\n",
       "    .dataframe tbody tr th {\n",
       "        vertical-align: top;\n",
       "    }\n",
       "\n",
       "    .dataframe thead th {\n",
       "        text-align: right;\n",
       "    }\n",
       "</style>\n",
       "<table border=\"1\" class=\"dataframe\">\n",
       "  <thead>\n",
       "    <tr style=\"text-align: right;\">\n",
       "      <th></th>\n",
       "      <th>Runs</th>\n",
       "      <th>Mins</th>\n",
       "      <th>BF</th>\n",
       "      <th>4s</th>\n",
       "      <th>6s</th>\n",
       "      <th>SR</th>\n",
       "      <th>Pos</th>\n",
       "      <th>Dismissal</th>\n",
       "      <th>Inns</th>\n",
       "      <th>Opposition</th>\n",
       "      <th>Ground</th>\n",
       "      <th>Start Date</th>\n",
       "    </tr>\n",
       "  </thead>\n",
       "  <tbody>\n",
       "    <tr>\n",
       "      <th>126</th>\n",
       "      <td>154</td>\n",
       "      <td>202</td>\n",
       "      <td>134</td>\n",
       "      <td>16</td>\n",
       "      <td>1</td>\n",
       "      <td>114.92</td>\n",
       "      <td>3</td>\n",
       "      <td>not out</td>\n",
       "      <td>2</td>\n",
       "      <td>v New Zealand</td>\n",
       "      <td>Mohali</td>\n",
       "      <td>16</td>\n",
       "    </tr>\n",
       "  </tbody>\n",
       "</table>\n",
       "</div>"
      ],
      "text/plain": [
       "     Runs Mins   BF  4s  6s      SR  Pos Dismissal  Inns     Opposition  \\\n",
       "126   154  202  134  16   1  114.92    3   not out     2  v New Zealand   \n",
       "\n",
       "     Ground Start Date  \n",
       "126  Mohali         16  "
      ]
     },
     "execution_count": 8,
     "metadata": {},
     "output_type": "execute_result"
    }
   ],
   "source": [
    "#we find the max_score he has\n",
    "max_runs=max(df['Runs'])\n",
    "#extract the match whose score is max_runs\n",
    "df[df['Runs']==max_runs]"
   ]
  },
  {
   "cell_type": "markdown",
   "metadata": {},
   "source": [
    "We see this was in year 2016 and hence statement III is __True__"
   ]
  },
  {
   "cell_type": "markdown",
   "metadata": {},
   "source": [
    "### 3. Highest Frequency\n",
    "Q3:Next, Next, from the following options choose the range in which he has scored more frequently or highest number of times.\n",
    "\n",
    "\n",
    "$ \\color{green} {a)\\,[72,\\, 83)}$\n",
    "\n",
    "b) [83, 91)\n",
    "\n",
    "c) [92, 102)\n",
    "\n",
    "d) He has scored an equal number of times in all the above run brackets.\n",
    "\n"
   ]
  },
  {
   "cell_type": "code",
   "execution_count": 9,
   "metadata": {},
   "outputs": [
    {
     "data": {
      "text/plain": [
       "6"
      ]
     },
     "execution_count": 9,
     "metadata": {},
     "output_type": "execute_result"
    }
   ],
   "source": [
    "#Solution for Q3\n",
    "#for (a)\n",
    "len(df[(df['Runs']>=72) & (df['Runs']<83)])"
   ]
  },
  {
   "cell_type": "code",
   "execution_count": 10,
   "metadata": {},
   "outputs": [
    {
     "data": {
      "text/plain": [
       "4"
      ]
     },
     "execution_count": 10,
     "metadata": {},
     "output_type": "execute_result"
    }
   ],
   "source": [
    "#for (b)\n",
    "len(df[(df['Runs']>=83) & (df['Runs']<91)])"
   ]
  },
  {
   "cell_type": "code",
   "execution_count": 11,
   "metadata": {},
   "outputs": [
    {
     "data": {
      "text/plain": [
       "4"
      ]
     },
     "execution_count": 11,
     "metadata": {},
     "output_type": "execute_result"
    }
   ],
   "source": [
    "#for (c)\n",
    "len(df[(df['Runs']>=92) & (df['Runs']<102)])"
   ]
  },
  {
   "cell_type": "markdown",
   "metadata": {},
   "source": [
    "Clearly option __(a)__ is the right answer"
   ]
  },
  {
   "cell_type": "markdown",
   "metadata": {},
   "source": [
    "### 4. Maximum Frequency\n",
    "\n",
    "Q4:Plot a histogram for the Mins column with 15 bins and report the range having the maximum frequency amongst the given options\n",
    "\n",
    "a) [54.6,68)\n",
    "\n",
    "b) [68,81.4)\n",
    "\n",
    "$ \\color{green} {c)\\,[121.6,\\,135)}$\n",
    "\n",
    "d) All the bin ranges have the same frequency\n"
   ]
  },
  {
   "cell_type": "code",
   "execution_count": 12,
   "metadata": {},
   "outputs": [
    {
     "name": "stdout",
     "output_type": "stream",
     "text": [
      "<class 'pandas.core.frame.DataFrame'>\n",
      "RangeIndex: 132 entries, 0 to 131\n",
      "Data columns (total 12 columns):\n",
      "Runs          132 non-null int64\n",
      "Mins          132 non-null object\n",
      "BF            132 non-null int64\n",
      "4s            132 non-null int64\n",
      "6s            132 non-null int64\n",
      "SR            132 non-null object\n",
      "Pos           132 non-null int64\n",
      "Dismissal     132 non-null object\n",
      "Inns          132 non-null int64\n",
      "Opposition    132 non-null object\n",
      "Ground        132 non-null object\n",
      "Start Date    132 non-null object\n",
      "dtypes: int64(6), object(6)\n",
      "memory usage: 12.5+ KB\n"
     ]
    }
   ],
   "source": [
    "#First we will have to clean the Mins column\n",
    "# - in a few matches indicate he didnt play in that match and hence the column is not being treated as int\n",
    "df.info()\n"
   ]
  },
  {
   "cell_type": "code",
   "execution_count": 13,
   "metadata": {},
   "outputs": [
    {
     "name": "stdout",
     "output_type": "stream",
     "text": [
      "<class 'pandas.core.frame.DataFrame'>\n",
      "Int64Index: 126 entries, 0 to 131\n",
      "Data columns (total 12 columns):\n",
      "Runs          126 non-null int64\n",
      "Mins          126 non-null int64\n",
      "BF            126 non-null int64\n",
      "4s            126 non-null int64\n",
      "6s            126 non-null int64\n",
      "SR            126 non-null object\n",
      "Pos           126 non-null int64\n",
      "Dismissal     126 non-null object\n",
      "Inns          126 non-null int64\n",
      "Opposition    126 non-null object\n",
      "Ground        126 non-null object\n",
      "Start Date    126 non-null object\n",
      "dtypes: int64(7), object(5)\n",
      "memory usage: 12.8+ KB\n"
     ]
    }
   ],
   "source": [
    "df=df[~(df['Mins']== \"-\")]\n",
    "df['Mins'] = df['Mins'].apply(lambda x: int(x))\n",
    "\n",
    "#check info\n",
    "df.info()"
   ]
  },
  {
   "cell_type": "code",
   "execution_count": 14,
   "metadata": {},
   "outputs": [
    {
     "data": {
      "text/plain": [
       "(array([28., 13., 12.,  9.,  6.,  6.,  9.,  4.,  9., 11.,  4.,  6.,  3.,\n",
       "         2.,  4.]),\n",
       " array([  1. ,  14.4,  27.8,  41.2,  54.6,  68. ,  81.4,  94.8, 108.2,\n",
       "        121.6, 135. , 148.4, 161.8, 175.2, 188.6, 202. ]),\n",
       " <a list of 15 Patch objects>)"
      ]
     },
     "execution_count": 14,
     "metadata": {},
     "output_type": "execute_result"
    },
    {
     "data": {
      "image/png": "[encoded data removed]",
      "text/plain": [
       "<Figure size 432x288 with 1 Axes>"
      ]
     },
     "metadata": {
      "needs_background": "light"
     },
     "output_type": "display_data"
    }
   ],
   "source": [
    "#Solution for Q4\n",
    "plt.hist(df.Mins, bins = 15)\n",
    "#note that not writing plt.show() displays the whole text, the twi arrays displayed below\n",
    "#are the values plotted in the histogram below\n",
    "#this can also be done by collecting the two returned values as shown below "
   ]
  },
  {
   "cell_type": "markdown",
   "metadata": {},
   "source": [
    "Clearly the range __[125.6, 135)__ has highest frequence among the option provided"
   ]
  },
  {
   "cell_type": "code",
   "execution_count": 15,
   "metadata": {},
   "outputs": [
    {
     "name": "stdout",
     "output_type": "stream",
     "text": [
      "[28. 13. 12.  9.  6.  6.  9.  4.  9. 11.  4.  6.  3.  2.  4.]\n",
      "[  1.   14.4  27.8  41.2  54.6  68.   81.4  94.8 108.2 121.6 135.  148.4\n",
      " 161.8 175.2 188.6 202. ]\n"
     ]
    },
    {
     "data": {
      "image/png": "[encoded data removed]",
      "text/plain": [
       "<Figure size 432x288 with 1 Axes>"
      ]
     },
     "metadata": {
      "needs_background": "light"
     },
     "output_type": "display_data"
    }
   ],
   "source": [
    "#collecting returns from plt.hist\n",
    "freq = plt.hist(df.Mins, bins = 15)\n",
    "print(freq[0])\n",
    "print(freq[1])\n",
    "#the first array is the frequencies and second array is the bins\n"
   ]
  },
  {
   "cell_type": "markdown",
   "metadata": {},
   "source": [
    "### 5. Correct Statements\n",
    "Q5:Using the modified dataset from the previous question(i.e. It doesn’t contain the rows having an incorrect Mins value), plot box plots of the runs scored by Virat in matches against Sri Lanka, Australia and England. Now consider the following statements:\n",
    "\n",
    "      1 - Virat has scored pretty similarly against both Australia and England.\n",
    "      2 - The highest score by Virat is against Sri Lanka.\n",
    "      3 - Amongst the three countries, the highest value at the upper fence occurs for Sri Lanka.\n",
    "      4 -Australia’s IQR is the widest.\n",
    "\n",
    "  Which of the above statements are correct?\n",
    "  \n",
    "       a) 1, 2 and 4\n",
    "       b) 1, 2 and 3\n",
    "       c) 2 and 4\n",
    "       d) 1 and 2\n",
    "\n"
   ]
  },
  {
   "cell_type": "code",
   "execution_count": 16,
   "metadata": {},
   "outputs": [
    {
     "data": {
      "image/png": "[encoded data removed]",
      "text/plain": [
       "<Figure size 432x288 with 1 Axes>"
      ]
     },
     "metadata": {
      "needs_background": "light"
     },
     "output_type": "display_data"
    }
   ],
   "source": [
    "#We slice the DF with condition on Opposition column and analyse all\n",
    "Aus=np.array(df[df['Opposition']==\"v Australia\"]['Runs'])\n",
    "Sri = np.array(df[df['Opposition']== \"v Sri Lanka\"]['Runs'])\n",
    "Eng = np.array(df[df['Opposition']== \"v England\"]['Runs'])\n",
    "\n",
    "#after getting all the runs against Aus Sri and Eng, we plot the box plot\n",
    "plt.boxplot([Aus, Sri, Eng])\n",
    "plt.xticks((1,2,3),[\"Aus\", \"Sri\", \"Eng\"])\n",
    "plt.show()"
   ]
  },
  {
   "cell_type": "markdown",
   "metadata": {},
   "source": [
    "### 6. True Statements\n",
    "Q6) From the same modified dataset as the previous question, create both box plot and histogram(take the number of bins as 3) as sub-plots for all the run scores in which the mode of dismissal was ‘lbw’. Now consider the following statements:\n",
    "\n",
    "I - The box-plot shows one outlier lying outside the fence at the score of 75\n",
    "\n",
    "II - The maximum frequency of scores lie between [20-41)\n",
    "\n",
    "III- The median score lies between 30-40\n",
    "\n",
    "Which of the above statements is/are true?\n",
    "\n",
    "a) I\n",
    "\n",
    "b) I and II\n",
    "\n",
    "$ \\color{green} {c)\\,II}$\n",
    "\n",
    "d) II and III"
   ]
  },
  {
   "cell_type": "code",
   "execution_count": 17,
   "metadata": {},
   "outputs": [
    {
     "data": {
      "text/plain": [
       "array([12, 31, 54,  0, 35, 20, 23, 61, 23], dtype=int64)"
      ]
     },
     "execution_count": 17,
     "metadata": {},
     "output_type": "execute_result"
    }
   ],
   "source": [
    "# Solution for Q6\n",
    "#we slice all the rows where Dismissal was by lbw and take runs of those rows\n",
    "lbw = np.array(df[df['Dismissal']== \"lbw\"]['Runs'])\n",
    "lbw"
   ]
  },
  {
   "cell_type": "code",
   "execution_count": 18,
   "metadata": {},
   "outputs": [
    {
     "data": {
      "text/plain": [
       "(array([3., 4., 2.]),\n",
       " array([ 0.        , 20.33333333, 40.66666667, 61.        ]),\n",
       " <a list of 3 Patch objects>)"
      ]
     },
     "execution_count": 18,
     "metadata": {},
     "output_type": "execute_result"
    },
    {
     "data": {
      "image/png": "[encoded data removed]",
      "text/plain": [
       "<Figure size 432x288 with 2 Axes>"
      ]
     },
     "metadata": {
      "needs_background": "light"
     },
     "output_type": "display_data"
    }
   ],
   "source": [
    "#we plot box plot and histogram\n",
    "fig, ax = plt.subplots(ncols=2)\n",
    "\n",
    "ax[0].boxplot(lbw)\n",
    "ax[1].hist(lbw,bins = 3)"
   ]
  },
  {
   "cell_type": "markdown",
   "metadata": {},
   "source": [
    "Statement I is __False__ because Fece at about 55, not at 75\n",
    "\n",
    "Statement II is __True__\n",
    "\n",
    "Statement III is __False__ as median is between 20-30"
   ]
  },
  {
   "cell_type": "code",
   "execution_count": null,
   "metadata": {},
   "outputs": [],
   "source": []
  },
  {
   "cell_type": "code",
   "execution_count": null,
   "metadata": {},
   "outputs": [],
   "source": []
  },
  {
   "cell_type": "code",
   "execution_count": null,
   "metadata": {},
   "outputs": [],
   "source": []
  },
  {
   "cell_type": "code",
   "execution_count": null,
   "metadata": {},
   "outputs": [],
   "source": []
  },
  {
   "cell_type": "code",
   "execution_count": null,
   "metadata": {},
   "outputs": [],
   "source": []
  },
  {
   "cell_type": "code",
   "execution_count": null,
   "metadata": {},
   "outputs": [],
   "source": []
  },
  {
   "cell_type": "code",
   "execution_count": null,
   "metadata": {},
   "outputs": [],
   "source": []
  },
  {
   "cell_type": "code",
   "execution_count": null,
   "metadata": {},
   "outputs": [],
   "source": []
  },
  {
   "cell_type": "markdown",
   "metadata": {},
   "source": [
    "# II -  Discounts dataset "
   ]
  },
  {
   "cell_type": "code",
   "execution_count": 19,
   "metadata": {},
   "outputs": [],
   "source": [
    "df2 = pd.read_csv(\"spd.csv\")"
   ]
  },
  {
   "cell_type": "markdown",
   "metadata": {},
   "source": [
    "### 1. Null Values\n",
    "Q1. Find the number of null values in each of the columns and delete all the entries having null values.\n",
    "    \n",
    "a) Sales - 17; Profits - 19; Discounts - 22\n",
    "\n",
    "b) Sales - 17; Profits - 22; Discounts - 19\n",
    "\n",
    "$ \\color{green} {c)\\,Sales\\,-\\,19;\\,Profits\\,-\\,22;\\,Discounts\\,-\\,17}$\n",
    "\n",
    "d) Sales - 22; Profits - 19; Discounts - 17\n"
   ]
  },
  {
   "cell_type": "code",
   "execution_count": 20,
   "metadata": {},
   "outputs": [
    {
     "data": {
      "text/plain": [
       "19"
      ]
     },
     "execution_count": 20,
     "metadata": {},
     "output_type": "execute_result"
    }
   ],
   "source": [
    "#Solution for Q1\n",
    "#find the null values using isnull().sum()\n",
    "df2['Sales'].isnull().sum()\n",
    "#similarly find others as well"
   ]
  },
  {
   "cell_type": "markdown",
   "metadata": {},
   "source": [
    "### 2. Incorrect Statements\n",
    "Q2. After you’ve removed the null values, clean the Sales column by replacing the bogus entries with the correct ones. After that, create a box-plot of all the products with Sales greater than 3000, and then consider the following statements:\n",
    "\n",
    "    I- The median value comes out to be between 2500-5000.\n",
    "    II- There are no outliers, i.e., values outside either fence for this box plot.\n",
    "    III- There are 3 entries having a Sales value greater than 15000.\n",
    "\n",
    "Which of the above statements is/are incorrect?\n",
    "\n",
    "a) I\n",
    "\n",
    "$ \\color{green} {b)\\,II\\,and\\,III}$\n",
    "\n",
    "c) III\n",
    "\n",
    "d) I and II\n",
    "\n",
    "\n",
    " "
   ]
  },
  {
   "cell_type": "markdown",
   "metadata": {},
   "source": [
    "Before moving on we first clean the values in Sales\n",
    "\n",
    "For this we will use a function called cleaner and pass it in apply"
   ]
  },
  {
   "cell_type": "code",
   "execution_count": 21,
   "metadata": {},
   "outputs": [],
   "source": [
    "#drop all na values from all 3 columns\n",
    "df2=df2.dropna(axis=0, how=\"any\")"
   ]
  },
  {
   "cell_type": "code",
   "execution_count": 22,
   "metadata": {},
   "outputs": [],
   "source": [
    "#this function is like a filter that will remove all the non allowed values from the string and return a float\n",
    "def cleaner(string):\n",
    "    clean_str=\"\".join(filter(lambda x: (x in \"0123456789.\"), string))\n",
    "    return float(clean_str)"
   ]
  },
  {
   "cell_type": "code",
   "execution_count": 23,
   "metadata": {},
   "outputs": [],
   "source": [
    "df2['Sales']=df2['Sales'].apply(cleaner)"
   ]
  },
  {
   "cell_type": "code",
   "execution_count": 24,
   "metadata": {},
   "outputs": [],
   "source": [
    "Sales=df2[df2['Sales']>3000]['Sales']"
   ]
  },
  {
   "cell_type": "code",
   "execution_count": 25,
   "metadata": {},
   "outputs": [
    {
     "data": {
      "text/plain": [
       "{'whiskers': [<matplotlib.lines.Line2D at 0x255b79c57b8>,\n",
       "  <matplotlib.lines.Line2D at 0x255b79c5898>],\n",
       " 'caps': [<matplotlib.lines.Line2D at 0x255b79c5128>,\n",
       "  <matplotlib.lines.Line2D at 0x255b78510f0>],\n",
       " 'boxes': [<matplotlib.lines.Line2D at 0x255b79c5ac8>],\n",
       " 'medians': [<matplotlib.lines.Line2D at 0x255b79d89b0>],\n",
       " 'fliers': [<matplotlib.lines.Line2D at 0x255b79d8dd8>],\n",
       " 'means': []}"
      ]
     },
     "execution_count": 25,
     "metadata": {},
     "output_type": "execute_result"
    },
    {
     "data": {
      "image/png": "[encoded data removed]",
      "text/plain": [
       "<Figure size 432x288 with 1 Axes>"
      ]
     },
     "metadata": {
      "needs_background": "light"
     },
     "output_type": "display_data"
    }
   ],
   "source": [
    "plt.boxplot(Sales)"
   ]
  },
  {
   "cell_type": "markdown",
   "metadata": {},
   "source": [
    "Clearly Statement II and III are False"
   ]
  },
  {
   "cell_type": "markdown",
   "metadata": {},
   "source": [
    "### 3. Box Plot\n",
    "Q3. Now that you’ve cleaned the bogus entries from the Sales column, go ahead and clean the Profits column as well. After that, create a boxplot of all the values that have Profits greater than 2000 and report back the approximate median value.\n",
    "    \n",
    "a) 3500\n",
    "\n",
    "b) 4500\n",
    "\n",
    "$ \\color{green} {c)\\,2800}$\n",
    "\n",
    "d) 5500\n"
   ]
  },
  {
   "cell_type": "code",
   "execution_count": 26,
   "metadata": {},
   "outputs": [],
   "source": [
    "#We will use the same cleaner function here to clean profit, but in this case\n",
    "#there are negative profits as well, so we will have to change the allowed string\n",
    "#this function is like a filter that will remove all the non allowed values from the string and return a float\n",
    "def Profit_cleaner(string):\n",
    "    clean_str=\"\".join(filter(lambda x: (x in \"0123456789.-\"), string))\n",
    "    return float(clean_str)"
   ]
  },
  {
   "cell_type": "code",
   "execution_count": 27,
   "metadata": {},
   "outputs": [
    {
     "data": {
      "text/plain": [
       "count      15.000000\n",
       "mean     3751.289327\n",
       "std      1868.702550\n",
       "min      2229.024000\n",
       "25%      2383.473750\n",
       "50%      2799.984000\n",
       "75%      4788.422750\n",
       "max      8399.976000\n",
       "Name: Profits, dtype: float64"
      ]
     },
     "execution_count": 27,
     "metadata": {},
     "output_type": "execute_result"
    }
   ],
   "source": [
    "#We use Profit_cleaner to clean Profits \n",
    "df2['Profits']=df2['Profits'].apply(Profit_cleaner)\n",
    "#Slice the series of Profits >2000 and use describe to get the median, you may also use median() functionality\n",
    "Profit=df2[df2['Profits']>2000]['Profits']\n",
    "Profit.describe()\n",
    "#the median is at 50%"
   ]
  },
  {
   "cell_type": "code",
   "execution_count": 28,
   "metadata": {},
   "outputs": [
    {
     "data": {
      "text/plain": [
       "{'whiskers': [<matplotlib.lines.Line2D at 0x255b8144898>,\n",
       "  <matplotlib.lines.Line2D at 0x255b8144240>],\n",
       " 'caps': [<matplotlib.lines.Line2D at 0x255b8144cc0>,\n",
       "  <matplotlib.lines.Line2D at 0x255b8144668>],\n",
       " 'boxes': [<matplotlib.lines.Line2D at 0x255b81450f0>],\n",
       " 'medians': [<matplotlib.lines.Line2D at 0x255b8144358>],\n",
       " 'fliers': [<matplotlib.lines.Line2D at 0x255b8142048>],\n",
       " 'means': []}"
      ]
     },
     "execution_count": 28,
     "metadata": {},
     "output_type": "execute_result"
    },
    {
     "data": {
      "image/png": "[encoded data removed]",
      "text/plain": [
       "<Figure size 432x288 with 1 Axes>"
      ]
     },
     "metadata": {
      "needs_background": "light"
     },
     "output_type": "display_data"
    }
   ],
   "source": [
    "#plotting box plot\n",
    "plt.boxplot(Profit)"
   ]
  },
  {
   "cell_type": "markdown",
   "metadata": {},
   "source": [
    "Clearly the median is 2799.98=__2800__"
   ]
  },
  {
   "cell_type": "markdown",
   "metadata": {},
   "source": [
    "### 4. Clean Data\n",
    "\n",
    "Q4. Once you have cleaned this column, report back the total number of times either a discount of 0.5, 0.1 or 0.6 was given.\n",
    "\n",
    "a) 134\n",
    "\n",
    "b) 182\n",
    "\n",
    "c) 284\n",
    "\n",
    "$ \\color{green} {d)\\,296}$\n"
   ]
  },
  {
   "cell_type": "code",
   "execution_count": 29,
   "metadata": {},
   "outputs": [
    {
     "data": {
      "text/plain": [
       "0.00    4767\n",
       "0.20    3640\n",
       "0.70     413\n",
       "0.80     300\n",
       "0.30     227\n",
       "0.40     205\n",
       "0.60     137\n",
       "0.10      93\n",
       "0.50      66\n",
       "0.15      52\n",
       "0.32      26\n",
       "0.45      11\n",
       "Name: Discounts, dtype: int64"
      ]
     },
     "execution_count": 29,
     "metadata": {},
     "output_type": "execute_result"
    }
   ],
   "source": [
    "#Solution to Q4\n",
    "#first we clean discounts using cleaner\n",
    "df2['Discounts']=df2['Discounts'].apply(cleaner)\n",
    "df2['Discounts'].value_counts()"
   ]
  },
  {
   "cell_type": "code",
   "execution_count": 30,
   "metadata": {},
   "outputs": [
    {
     "data": {
      "text/plain": [
       "296"
      ]
     },
     "execution_count": 30,
     "metadata": {},
     "output_type": "execute_result"
    }
   ],
   "source": [
    "#we can manually sum the values at 0.1, 0.5 and 0.6\n",
    "#or do this\n",
    "len(df2[ (df2['Discounts']==0.5) | (df2['Discounts']==0.1) | (df2['Discounts']==0.6)])"
   ]
  },
  {
   "cell_type": "code",
   "execution_count": null,
   "metadata": {},
   "outputs": [],
   "source": []
  }
 ],
 "metadata": {
  "kernelspec": {
   "display_name": "Python 3",
   "language": "python",
   "name": "python3"
  },
  "language_info": {
   "codemirror_mode": {
    "name": "ipython",
    "version": 3
   },
   "file_extension": ".py",
   "mimetype": "text/x-python",
   "name": "python",
   "nbconvert_exporter": "python",
   "pygments_lexer": "ipython3",
   "version": "3.7.4"
  }
 },
 "nbformat": 4,
 "nbformat_minor": 2
}
