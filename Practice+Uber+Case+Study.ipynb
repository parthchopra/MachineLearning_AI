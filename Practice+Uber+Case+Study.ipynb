{
 "cells": [
  {
   "cell_type": "code",
   "execution_count": 1,
   "metadata": {},
   "outputs": [],
   "source": [
    "#Import the libraries\n",
    "import pandas as pd\n",
    "import matplotlib.pyplot as plt\n",
    "import seaborn as sns\n",
    "import datetime as dt\n",
    "import numpy as np"
   ]
  },
  {
   "cell_type": "code",
   "execution_count": 6,
   "metadata": {},
   "outputs": [
    {
     "name": "stdout",
     "output_type": "stream",
     "text": [
      "<class 'pandas.core.frame.DataFrame'>\n",
      "RangeIndex: 6745 entries, 0 to 6744\n",
      "Data columns (total 6 columns):\n",
      " #   Column             Non-Null Count  Dtype         \n",
      "---  ------             --------------  -----         \n",
      " 0   Request id         6745 non-null   int64         \n",
      " 1   Pickup point       6745 non-null   object        \n",
      " 2   Driver id          4095 non-null   float64       \n",
      " 3   Status             6745 non-null   object        \n",
      " 4   Request timestamp  6745 non-null   datetime64[ns]\n",
      " 5   Drop timestamp     2831 non-null   datetime64[ns]\n",
      "dtypes: datetime64[ns](2), float64(1), int64(1), object(2)\n",
      "memory usage: 316.3+ KB\n"
     ]
    }
   ],
   "source": [
    "#Write code to load the dataset here\n",
    "df = pd.read_csv(\"Uber+Request+Data.csv\", parse_dates=['Request timestamp', 'Drop timestamp'])\n",
    "df.info()"
   ]
  },
  {
   "cell_type": "code",
   "execution_count": 12,
   "metadata": {},
   "outputs": [
    {
     "data": {
      "text/html": [
       "<div>\n",
       "<style scoped>\n",
       "    .dataframe tbody tr th:only-of-type {\n",
       "        vertical-align: middle;\n",
       "    }\n",
       "\n",
       "    .dataframe tbody tr th {\n",
       "        vertical-align: top;\n",
       "    }\n",
       "\n",
       "    .dataframe thead th {\n",
       "        text-align: right;\n",
       "    }\n",
       "</style>\n",
       "<table border=\"1\" class=\"dataframe\">\n",
       "  <thead>\n",
       "    <tr style=\"text-align: right;\">\n",
       "      <th></th>\n",
       "      <th>Request id</th>\n",
       "      <th>Pickup point</th>\n",
       "      <th>Driver id</th>\n",
       "      <th>Status</th>\n",
       "      <th>Request timestamp</th>\n",
       "      <th>Drop timestamp</th>\n",
       "    </tr>\n",
       "  </thead>\n",
       "  <tbody>\n",
       "    <tr>\n",
       "      <th>4095</th>\n",
       "      <td>1362</td>\n",
       "      <td>City</td>\n",
       "      <td>NaN</td>\n",
       "      <td>No Cars Available</td>\n",
       "      <td>2016-11-07 00:02:00</td>\n",
       "      <td>NaT</td>\n",
       "    </tr>\n",
       "    <tr>\n",
       "      <th>4096</th>\n",
       "      <td>1364</td>\n",
       "      <td>City</td>\n",
       "      <td>NaN</td>\n",
       "      <td>No Cars Available</td>\n",
       "      <td>2016-11-07 00:06:00</td>\n",
       "      <td>NaT</td>\n",
       "    </tr>\n",
       "    <tr>\n",
       "      <th>4097</th>\n",
       "      <td>1366</td>\n",
       "      <td>City</td>\n",
       "      <td>NaN</td>\n",
       "      <td>No Cars Available</td>\n",
       "      <td>2016-11-07 00:09:00</td>\n",
       "      <td>NaT</td>\n",
       "    </tr>\n",
       "    <tr>\n",
       "      <th>4098</th>\n",
       "      <td>2</td>\n",
       "      <td>Airport</td>\n",
       "      <td>NaN</td>\n",
       "      <td>No Cars Available</td>\n",
       "      <td>2016-11-07 00:23:00</td>\n",
       "      <td>NaT</td>\n",
       "    </tr>\n",
       "    <tr>\n",
       "      <th>4099</th>\n",
       "      <td>7</td>\n",
       "      <td>Airport</td>\n",
       "      <td>NaN</td>\n",
       "      <td>No Cars Available</td>\n",
       "      <td>2016-11-07 00:30:00</td>\n",
       "      <td>NaT</td>\n",
       "    </tr>\n",
       "    <tr>\n",
       "      <th>...</th>\n",
       "      <td>...</td>\n",
       "      <td>...</td>\n",
       "      <td>...</td>\n",
       "      <td>...</td>\n",
       "      <td>...</td>\n",
       "      <td>...</td>\n",
       "    </tr>\n",
       "    <tr>\n",
       "      <th>6740</th>\n",
       "      <td>6745</td>\n",
       "      <td>City</td>\n",
       "      <td>NaN</td>\n",
       "      <td>No Cars Available</td>\n",
       "      <td>2016-07-15 23:49:03</td>\n",
       "      <td>NaT</td>\n",
       "    </tr>\n",
       "    <tr>\n",
       "      <th>6741</th>\n",
       "      <td>6752</td>\n",
       "      <td>Airport</td>\n",
       "      <td>NaN</td>\n",
       "      <td>No Cars Available</td>\n",
       "      <td>2016-07-15 23:50:05</td>\n",
       "      <td>NaT</td>\n",
       "    </tr>\n",
       "    <tr>\n",
       "      <th>6742</th>\n",
       "      <td>6751</td>\n",
       "      <td>City</td>\n",
       "      <td>NaN</td>\n",
       "      <td>No Cars Available</td>\n",
       "      <td>2016-07-15 23:52:06</td>\n",
       "      <td>NaT</td>\n",
       "    </tr>\n",
       "    <tr>\n",
       "      <th>6743</th>\n",
       "      <td>6754</td>\n",
       "      <td>City</td>\n",
       "      <td>NaN</td>\n",
       "      <td>No Cars Available</td>\n",
       "      <td>2016-07-15 23:54:39</td>\n",
       "      <td>NaT</td>\n",
       "    </tr>\n",
       "    <tr>\n",
       "      <th>6744</th>\n",
       "      <td>6753</td>\n",
       "      <td>Airport</td>\n",
       "      <td>NaN</td>\n",
       "      <td>No Cars Available</td>\n",
       "      <td>2016-07-15 23:55:03</td>\n",
       "      <td>NaT</td>\n",
       "    </tr>\n",
       "  </tbody>\n",
       "</table>\n",
       "<p>2650 rows × 6 columns</p>\n",
       "</div>"
      ],
      "text/plain": [
       "      Request id Pickup point  Driver id             Status  \\\n",
       "4095        1362         City        NaN  No Cars Available   \n",
       "4096        1364         City        NaN  No Cars Available   \n",
       "4097        1366         City        NaN  No Cars Available   \n",
       "4098           2      Airport        NaN  No Cars Available   \n",
       "4099           7      Airport        NaN  No Cars Available   \n",
       "...          ...          ...        ...                ...   \n",
       "6740        6745         City        NaN  No Cars Available   \n",
       "6741        6752      Airport        NaN  No Cars Available   \n",
       "6742        6751         City        NaN  No Cars Available   \n",
       "6743        6754         City        NaN  No Cars Available   \n",
       "6744        6753      Airport        NaN  No Cars Available   \n",
       "\n",
       "       Request timestamp Drop timestamp  \n",
       "4095 2016-11-07 00:02:00            NaT  \n",
       "4096 2016-11-07 00:06:00            NaT  \n",
       "4097 2016-11-07 00:09:00            NaT  \n",
       "4098 2016-11-07 00:23:00            NaT  \n",
       "4099 2016-11-07 00:30:00            NaT  \n",
       "...                  ...            ...  \n",
       "6740 2016-07-15 23:49:03            NaT  \n",
       "6741 2016-07-15 23:50:05            NaT  \n",
       "6742 2016-07-15 23:52:06            NaT  \n",
       "6743 2016-07-15 23:54:39            NaT  \n",
       "6744 2016-07-15 23:55:03            NaT  \n",
       "\n",
       "[2650 rows x 6 columns]"
      ]
     },
     "execution_count": 12,
     "metadata": {},
     "output_type": "execute_result"
    }
   ],
   "source": [
    "#use the following few lines to explore the data or clean it\n",
    "df[df[\"Driver id\"].isna()]\n"
   ]
  },
  {
   "cell_type": "code",
   "execution_count": null,
   "metadata": {},
   "outputs": [],
   "source": []
  },
  {
   "cell_type": "code",
   "execution_count": null,
   "metadata": {},
   "outputs": [],
   "source": []
  },
  {
   "cell_type": "markdown",
   "metadata": {},
   "source": [
    "## Q1. Null Values\n",
    "Which columns have null values and how many?\n",
    "\n",
    "a) Request id - 2650 Driver id -3914\n",
    "\n",
    "b) Request id-   3914 Driver id - 2650\n",
    "\n",
    "c) Driver id - 2650 Drop time stamp -3914\n",
    "\n",
    "d) There are no null values in the dataset."
   ]
  },
  {
   "cell_type": "code",
   "execution_count": 4,
   "metadata": {},
   "outputs": [],
   "source": [
    "#Write your code here"
   ]
  },
  {
   "cell_type": "code",
   "execution_count": null,
   "metadata": {},
   "outputs": [],
   "source": []
  },
  {
   "cell_type": "code",
   "execution_count": null,
   "metadata": {},
   "outputs": [],
   "source": []
  },
  {
   "cell_type": "markdown",
   "metadata": {},
   "source": [
    "## Q2. Choose Correct\n",
    "\n",
    "Select the correct statements from the options given below. (More than one may be correct)\n",
    "\n",
    "a) We need to delete the records containing the null values as they won’t be useful for our analysis.\n",
    "\n",
    "b) Only the records containing null values in the Driver id need to be eliminated.\n",
    "\n",
    "c) There are a total of 1264 requests which have a status of “cancelled”\n",
    "\n",
    "d) We need to keep the records containing null values for both the columns and using them analyse the problems faced by Uber."
   ]
  },
  {
   "cell_type": "code",
   "execution_count": 5,
   "metadata": {},
   "outputs": [],
   "source": [
    "#write your code here"
   ]
  },
  {
   "cell_type": "code",
   "execution_count": null,
   "metadata": {},
   "outputs": [],
   "source": []
  },
  {
   "cell_type": "code",
   "execution_count": null,
   "metadata": {},
   "outputs": [],
   "source": []
  },
  {
   "cell_type": "markdown",
   "metadata": {},
   "source": [
    "## Q3. Busy Hour\n",
    "\n",
    "Now that you have understood the significance of the null values in this case study, the next step would involve fixing the Request Time-Stamp and Drop-Time Stamp columns. Go ahead and convert it into a date-time object. After that report back the hour in which the most number of requests are being made.\n",
    "\n",
    "a) 18:00-19:00\n",
    "\n",
    "b) 16:00-17:00\n",
    "\n",
    "c) 14:00-15:00\n",
    "\n",
    "d) 13:00-14:00\n",
    "\n",
    "e) 19:00-20:00"
   ]
  },
  {
   "cell_type": "code",
   "execution_count": 15,
   "metadata": {},
   "outputs": [
    {
     "data": {
      "text/plain": [
       "18    510\n",
       "20    492\n",
       "19    473\n",
       "21    449\n",
       "5     445\n",
       "9     431\n",
       "8     423\n",
       "17    418\n",
       "7     406\n",
       "6     398\n",
       "22    304\n",
       "10    243\n",
       "4     203\n",
       "23    194\n",
       "12    184\n",
       "11    171\n",
       "15    171\n",
       "13    160\n",
       "16    159\n",
       "14    136\n",
       "2      99\n",
       "0      99\n",
       "3      92\n",
       "1      85\n",
       "Name: Request_Hour, dtype: int64"
      ]
     },
     "execution_count": 15,
     "metadata": {},
     "output_type": "execute_result"
    }
   ],
   "source": [
    "#write your solution here\n",
    "df[\"Request_Hour\"] = df[\"Request timestamp\"].dt.hour\n",
    "df.Request_Hour.value_counts()"
   ]
  },
  {
   "cell_type": "code",
   "execution_count": null,
   "metadata": {},
   "outputs": [],
   "source": []
  },
  {
   "cell_type": "code",
   "execution_count": null,
   "metadata": {},
   "outputs": [],
   "source": []
  },
  {
   "cell_type": "markdown",
   "metadata": {},
   "source": [
    "## Q4. Cancelled Dates\n",
    "Next, extract the date from the request timestamp and find the date when the most number of trips were cancelled.\n",
    "\n",
    "a) 2016-07-13\n",
    "\n",
    "b) 2016-11-07\n",
    "\n",
    "c) 2016-07-14\n",
    "\n",
    "d) 2016-07-15 \n",
    "\n",
    "e) 2016-12-07"
   ]
  },
  {
   "cell_type": "code",
   "execution_count": 21,
   "metadata": {},
   "outputs": [
    {
     "data": {
      "text/html": [
       "<div>\n",
       "<style scoped>\n",
       "    .dataframe tbody tr th:only-of-type {\n",
       "        vertical-align: middle;\n",
       "    }\n",
       "\n",
       "    .dataframe tbody tr th {\n",
       "        vertical-align: top;\n",
       "    }\n",
       "\n",
       "    .dataframe thead th {\n",
       "        text-align: right;\n",
       "    }\n",
       "</style>\n",
       "<table border=\"1\" class=\"dataframe\">\n",
       "  <thead>\n",
       "    <tr style=\"text-align: right;\">\n",
       "      <th></th>\n",
       "      <th>Request id</th>\n",
       "      <th>Pickup point</th>\n",
       "      <th>Driver id</th>\n",
       "      <th>Status</th>\n",
       "      <th>Request timestamp</th>\n",
       "      <th>Drop timestamp</th>\n",
       "      <th>Request_Hour</th>\n",
       "      <th>Request_Date</th>\n",
       "    </tr>\n",
       "  </thead>\n",
       "  <tbody>\n",
       "    <tr>\n",
       "      <th>2831</th>\n",
       "      <td>2905</td>\n",
       "      <td>City</td>\n",
       "      <td>1.0</td>\n",
       "      <td>Cancelled</td>\n",
       "      <td>2016-07-13 06:08:41</td>\n",
       "      <td>NaT</td>\n",
       "      <td>6</td>\n",
       "      <td>2016-07-13</td>\n",
       "    </tr>\n",
       "    <tr>\n",
       "      <th>2832</th>\n",
       "      <td>4805</td>\n",
       "      <td>City</td>\n",
       "      <td>1.0</td>\n",
       "      <td>Cancelled</td>\n",
       "      <td>2016-07-14 17:07:58</td>\n",
       "      <td>NaT</td>\n",
       "      <td>17</td>\n",
       "      <td>2016-07-14</td>\n",
       "    </tr>\n",
       "    <tr>\n",
       "      <th>2833</th>\n",
       "      <td>5202</td>\n",
       "      <td>Airport</td>\n",
       "      <td>1.0</td>\n",
       "      <td>Cancelled</td>\n",
       "      <td>2016-07-14 20:51:37</td>\n",
       "      <td>NaT</td>\n",
       "      <td>20</td>\n",
       "      <td>2016-07-14</td>\n",
       "    </tr>\n",
       "    <tr>\n",
       "      <th>2834</th>\n",
       "      <td>5927</td>\n",
       "      <td>City</td>\n",
       "      <td>1.0</td>\n",
       "      <td>Cancelled</td>\n",
       "      <td>2016-07-15 10:12:40</td>\n",
       "      <td>NaT</td>\n",
       "      <td>10</td>\n",
       "      <td>2016-07-15</td>\n",
       "    </tr>\n",
       "    <tr>\n",
       "      <th>2835</th>\n",
       "      <td>2347</td>\n",
       "      <td>Airport</td>\n",
       "      <td>2.0</td>\n",
       "      <td>Cancelled</td>\n",
       "      <td>2016-12-07 19:14:00</td>\n",
       "      <td>NaT</td>\n",
       "      <td>19</td>\n",
       "      <td>2016-12-07</td>\n",
       "    </tr>\n",
       "    <tr>\n",
       "      <th>...</th>\n",
       "      <td>...</td>\n",
       "      <td>...</td>\n",
       "      <td>...</td>\n",
       "      <td>...</td>\n",
       "      <td>...</td>\n",
       "      <td>...</td>\n",
       "      <td>...</td>\n",
       "      <td>...</td>\n",
       "    </tr>\n",
       "    <tr>\n",
       "      <th>4090</th>\n",
       "      <td>1641</td>\n",
       "      <td>City</td>\n",
       "      <td>299.0</td>\n",
       "      <td>Cancelled</td>\n",
       "      <td>2016-12-07 07:20:00</td>\n",
       "      <td>NaT</td>\n",
       "      <td>7</td>\n",
       "      <td>2016-12-07</td>\n",
       "    </tr>\n",
       "    <tr>\n",
       "      <th>4091</th>\n",
       "      <td>4158</td>\n",
       "      <td>City</td>\n",
       "      <td>299.0</td>\n",
       "      <td>Cancelled</td>\n",
       "      <td>2016-07-14 05:03:10</td>\n",
       "      <td>NaT</td>\n",
       "      <td>5</td>\n",
       "      <td>2016-07-14</td>\n",
       "    </tr>\n",
       "    <tr>\n",
       "      <th>4092</th>\n",
       "      <td>4164</td>\n",
       "      <td>City</td>\n",
       "      <td>299.0</td>\n",
       "      <td>Cancelled</td>\n",
       "      <td>2016-07-14 05:06:40</td>\n",
       "      <td>NaT</td>\n",
       "      <td>5</td>\n",
       "      <td>2016-07-14</td>\n",
       "    </tr>\n",
       "    <tr>\n",
       "      <th>4093</th>\n",
       "      <td>4448</td>\n",
       "      <td>City</td>\n",
       "      <td>299.0</td>\n",
       "      <td>Cancelled</td>\n",
       "      <td>2016-07-14 08:30:59</td>\n",
       "      <td>NaT</td>\n",
       "      <td>8</td>\n",
       "      <td>2016-07-14</td>\n",
       "    </tr>\n",
       "    <tr>\n",
       "      <th>4094</th>\n",
       "      <td>4225</td>\n",
       "      <td>City</td>\n",
       "      <td>300.0</td>\n",
       "      <td>Cancelled</td>\n",
       "      <td>2016-07-14 05:46:06</td>\n",
       "      <td>NaT</td>\n",
       "      <td>5</td>\n",
       "      <td>2016-07-14</td>\n",
       "    </tr>\n",
       "  </tbody>\n",
       "</table>\n",
       "<p>1264 rows × 8 columns</p>\n",
       "</div>"
      ],
      "text/plain": [
       "      Request id Pickup point  Driver id     Status   Request timestamp  \\\n",
       "2831        2905         City        1.0  Cancelled 2016-07-13 06:08:41   \n",
       "2832        4805         City        1.0  Cancelled 2016-07-14 17:07:58   \n",
       "2833        5202      Airport        1.0  Cancelled 2016-07-14 20:51:37   \n",
       "2834        5927         City        1.0  Cancelled 2016-07-15 10:12:40   \n",
       "2835        2347      Airport        2.0  Cancelled 2016-12-07 19:14:00   \n",
       "...          ...          ...        ...        ...                 ...   \n",
       "4090        1641         City      299.0  Cancelled 2016-12-07 07:20:00   \n",
       "4091        4158         City      299.0  Cancelled 2016-07-14 05:03:10   \n",
       "4092        4164         City      299.0  Cancelled 2016-07-14 05:06:40   \n",
       "4093        4448         City      299.0  Cancelled 2016-07-14 08:30:59   \n",
       "4094        4225         City      300.0  Cancelled 2016-07-14 05:46:06   \n",
       "\n",
       "     Drop timestamp  Request_Hour Request_Date  \n",
       "2831            NaT             6   2016-07-13  \n",
       "2832            NaT            17   2016-07-14  \n",
       "2833            NaT            20   2016-07-14  \n",
       "2834            NaT            10   2016-07-15  \n",
       "2835            NaT            19   2016-12-07  \n",
       "...             ...           ...          ...  \n",
       "4090            NaT             7   2016-12-07  \n",
       "4091            NaT             5   2016-07-14  \n",
       "4092            NaT             5   2016-07-14  \n",
       "4093            NaT             8   2016-07-14  \n",
       "4094            NaT             5   2016-07-14  \n",
       "\n",
       "[1264 rows x 8 columns]"
      ]
     },
     "execution_count": 21,
     "metadata": {},
     "output_type": "execute_result"
    }
   ],
   "source": [
    "#write your code here\n",
    "df[\"Request_Date\"] = df[\"Request timestamp\"].dt.date\n"
   ]
  },
  {
   "cell_type": "code",
   "execution_count": 25,
   "metadata": {},
   "outputs": [
    {
     "data": {
      "text/plain": [
       "2016-07-13    270\n",
       "2016-11-07    262\n",
       "2016-07-14    252\n",
       "2016-07-15    240\n",
       "2016-12-07    240\n",
       "Name: Request_Date, dtype: int64"
      ]
     },
     "execution_count": 25,
     "metadata": {},
     "output_type": "execute_result"
    }
   ],
   "source": [
    "df[df.Status==\"Cancelled\"].Request_Date.value_counts()"
   ]
  },
  {
   "cell_type": "code",
   "execution_count": null,
   "metadata": {},
   "outputs": [],
   "source": []
  },
  {
   "cell_type": "markdown",
   "metadata": {},
   "source": [
    "## Q5. Correct Statements II\n",
    "\n",
    "Choose the correct statements from the ones given below.\n",
    "\n",
    "(More than one may be correct)\n",
    "\n",
    "a) In general, the five hour time period in which the most number of trips are completed is approximately 5-10.\n",
    "\n",
    "b) Across all the days, the number of trips from the City that get cancelled is nearly 9 times less than the trips when there were no cars available.\n",
    "\n",
    "c) Across all the days, the number of trips from the Airport that get cancelled is comparable to the number of trips when there were no cars available.\n",
    "\n",
    "d) The number of trips getting completed from City is higher than the trips completed from the airport.\n"
   ]
  },
  {
   "cell_type": "code",
   "execution_count": 46,
   "metadata": {},
   "outputs": [
    {
     "data": {
      "text/plain": [
       "5     185\n",
       "7     174\n",
       "9     173\n",
       "6     167\n",
       "19    166\n",
       "18    164\n",
       "20    161\n",
       "8     155\n",
       "22    154\n",
       "17    151\n",
       "21    142\n",
       "12    121\n",
       "10    116\n",
       "11    115\n",
       "23    103\n",
       "15    102\n",
       "16     91\n",
       "13     89\n",
       "14     88\n",
       "4      78\n",
       "0      40\n",
       "2      37\n",
       "3      34\n",
       "1      25\n",
       "Name: Request_Hour, dtype: int64"
      ]
     },
     "execution_count": 46,
     "metadata": {},
     "output_type": "execute_result"
    }
   ],
   "source": [
    "# write your code here\n",
    "df[df.Status==\"Trip Completed\"].Request_Hour.value_counts()"
   ]
  },
  {
   "cell_type": "code",
   "execution_count": 37,
   "metadata": {},
   "outputs": [
    {
     "data": {
      "text/plain": [
       "2016-07-13    48\n",
       "2016-12-07    45\n",
       "2016-11-07    42\n",
       "2016-07-14    32\n",
       "2016-07-15    31\n",
       "Name: Request_Date, dtype: int64"
      ]
     },
     "execution_count": 37,
     "metadata": {},
     "output_type": "execute_result"
    }
   ],
   "source": [
    "df[(df.Status==\"Cancelled\") & (df[\"Pickup point\"] == \"Airport\")].Request_Date.value_counts()"
   ]
  },
  {
   "cell_type": "code",
   "execution_count": 36,
   "metadata": {},
   "outputs": [
    {
     "data": {
      "text/plain": [
       "2016-07-15    580\n",
       "2016-07-14    571\n",
       "2016-12-07    505\n",
       "2016-11-07    504\n",
       "2016-07-13    490\n",
       "Name: Request_Date, dtype: int64"
      ]
     },
     "execution_count": 36,
     "metadata": {},
     "output_type": "execute_result"
    }
   ],
   "source": [
    "df[df.Status == \"No Cars Available\"].Request_Date.value_counts()"
   ]
  },
  {
   "cell_type": "code",
   "execution_count": 40,
   "metadata": {},
   "outputs": [
    {
     "data": {
      "text/plain": [
       "177"
      ]
     },
     "execution_count": 40,
     "metadata": {},
     "output_type": "execute_result"
    }
   ],
   "source": [
    "len(df[(df.Status == \"Trip Completed\") & (df[\"Pickup point\"] == \"City\")]) - len(df[(df.Status == \"Trip Completed\") & (df[\"Pickup point\"] == \"Airport\")])"
   ]
  },
  {
   "cell_type": "markdown",
   "metadata": {},
   "source": [
    "## Q6. Request Time\n",
    "\n",
    "Once you’ve analysed requests for all the days at an aggregate level, it’s time to find patterns in individual days and see if there is anything common across the days. Analyse the distribution of requests across all the days and choose the correct option.\n",
    "\n",
    "a) The most number of requests are obtained only in the morning hours across all the days.\n",
    "\n",
    "b) The most number of requests are obtained only in the evening hours across all the days.\n",
    "\n",
    "c) The most number of requests are obtained both in the morning as well as the evening hours across all the days.\n",
    "\n",
    "d) None of these"
   ]
  },
  {
   "cell_type": "code",
   "execution_count": 56,
   "metadata": {},
   "outputs": [
    {
     "data": {
      "text/plain": [
       "<matplotlib.axes._subplots.AxesSubplot at 0x7f95183cc990>"
      ]
     },
     "execution_count": 56,
     "metadata": {},
     "output_type": "execute_result"
    },
    {
     "data": {
      "image/png": "[encoded data removed]",
      "text/plain": [
       "<Figure size 432x288 with 1 Axes>"
      ]
     },
     "metadata": {
      "needs_background": "light"
     },
     "output_type": "display_data"
    }
   ],
   "source": [
    "##Write your code here\n",
    "df[df[\"Pickup point\"] == \"Airport\"].Request_Hour.value_counts().sort_index().plot()"
   ]
  },
  {
   "cell_type": "code",
   "execution_count": null,
   "metadata": {},
   "outputs": [],
   "source": []
  },
  {
   "cell_type": "code",
   "execution_count": null,
   "metadata": {},
   "outputs": [],
   "source": []
  },
  {
   "cell_type": "markdown",
   "metadata": {},
   "source": [
    "## Q7. Request Time II\n",
    "\n",
    "Now that you’ve observed that the number of requests across all the days is similar, you need to check it across the pick-up points as well. Analyse the distribution of requests across each of the pick-up points exclusively and choose the correct option:\n",
    "\n",
    "a) The majority of requests from City are obtained during evening hours.\n",
    "\n",
    "b) The majority of requests from Airport are obtained during morning hours.\n",
    "\n",
    "c) The majority of requests from City are obtained during morning hours.\n",
    "\n",
    "d) Both a) and b)\n"
   ]
  },
  {
   "cell_type": "code",
   "execution_count": 10,
   "metadata": {},
   "outputs": [],
   "source": [
    "# Write your code here"
   ]
  },
  {
   "cell_type": "code",
   "execution_count": null,
   "metadata": {},
   "outputs": [],
   "source": []
  },
  {
   "cell_type": "code",
   "execution_count": null,
   "metadata": {},
   "outputs": [],
   "source": []
  },
  {
   "cell_type": "markdown",
   "metadata": {},
   "source": [
    "## Q8. Request Time III\n",
    "Now that you have realised the patterns of requests coming from both the city and the airport, the next step is to divide the entire time period to certain slots and then analyse them using plots. Use the following classification table to create the slots and then choose the correct option.\n",
    "\n",
    "\n",
    "| Hour Range(x) |   Time Slot   |\n",
    "|:-------------:|:-------------:|\n",
    "|     x < 5     | Early morning |\n",
    "|  5 <= x < 10  |    Morning    |\n",
    "|  10 <= x < 17 |    Day Time   |\n",
    "|  17 <= x < 22 |    Evening    |\n",
    "|    22 <= x    |   Late Night  |\n",
    "\n",
    "\n",
    "a) The maximum number of requests across all the days happens in the Evening.\n",
    "\n",
    "b) The minimum number of requests across all the days happens in Early Morning.\n",
    "\n",
    "c) The minimum number of requests across all the days happens in Late Night.\n",
    "\n",
    "d) Both a) and c)"
   ]
  },
  {
   "cell_type": "code",
   "execution_count": 90,
   "metadata": {},
   "outputs": [
    {
     "data": {
      "text/plain": [
       "Evening         2228\n",
       "Morning         1901\n",
       "DayTime         1399\n",
       "EarlyMorning     924\n",
       "LateNight        194\n",
       "Name: Request_day_time, dtype: int64"
      ]
     },
     "execution_count": 90,
     "metadata": {},
     "output_type": "execute_result"
    }
   ],
   "source": [
    "#write your code here\n",
    "#df.reset_index(inplace=True)\n",
    "#df.iloc[6744]\n",
    "df[\"Request_day_time\"] = pd.cut(df.Request_Hour, bins =[0,5,10,17,22,23], labels = [\"EarlyMorning\", \"Morning\", \"DayTime\", \"Evening\", \"LateNight\"])\n",
    "df.Request_day_time.value_counts()\n"
   ]
  },
  {
   "cell_type": "code",
   "execution_count": 91,
   "metadata": {},
   "outputs": [],
   "source": [
    "df[\"Count\"] = 1"
   ]
  },
  {
   "cell_type": "code",
   "execution_count": 92,
   "metadata": {},
   "outputs": [
    {
     "data": {
      "text/plain": [
       "<matplotlib.axes._subplots.AxesSubplot at 0x7f9508db8310>"
      ]
     },
     "execution_count": 92,
     "metadata": {},
     "output_type": "execute_result"
    },
    {
     "data": {
      "image/png": "[encoded data removed]",
      "text/plain": [
       "<Figure size 432x288 with 1 Axes>"
      ]
     },
     "metadata": {
      "needs_background": "light"
     },
     "output_type": "display_data"
    }
   ],
   "source": [
    "sns.barplot(x=\"Request_day_time\", y=\"Count\", hue = \"Status\", data=df, estimator=np.sum)"
   ]
  },
  {
   "cell_type": "markdown",
   "metadata": {},
   "source": [
    "## Q9. Bar\n",
    "After this, you decide to plot a bar plot with the time slots in the X-axis and the number of requests in the Y-axis and observe the Status of trips for each time slot. This way you’ll get the number of trip request across each time slot and their status as well. \n",
    "\n",
    "To make things easier, you created an additional column called ‘Count’ whose value is fixed at 1 for all the rows(df[\"Count\"]=1). Then in order to create a bar plot as mentioned in the first statement, you decided to use sns.barplot() function. \n",
    "\n",
    "What are the parameters that you need to take here?\n",
    "\n",
    "a) Take time slots as x and Count as y\n",
    "\n",
    "b) Take the Status as hue and df as the data\n",
    "\n",
    "c) Both (a) and (b)\n",
    "\n",
    "d) The parameters mentioned above are insufficient"
   ]
  },
  {
   "cell_type": "code",
   "execution_count": 12,
   "metadata": {},
   "outputs": [],
   "source": [
    "#Use this for rough work"
   ]
  },
  {
   "cell_type": "code",
   "execution_count": null,
   "metadata": {},
   "outputs": [],
   "source": []
  },
  {
   "cell_type": "code",
   "execution_count": null,
   "metadata": {},
   "outputs": [],
   "source": []
  },
  {
   "cell_type": "markdown",
   "metadata": {},
   "source": [
    "## Q10. Correct Bar\n",
    "Once you have created the bar plot correctly, what major issues are you able to observe? Choose the correct options amongst the following-\n",
    "\n",
    "a) A majority of requests in the evening are having a “No cars available” status\n",
    "\n",
    "b) The major issue in the morning slot is that it has a lot of cancellations\n",
    "\n",
    "c) Both (a) and (b)\n",
    "\n",
    "d) None of the above"
   ]
  },
  {
   "cell_type": "code",
   "execution_count": 94,
   "metadata": {},
   "outputs": [
    {
     "data": {
      "text/plain": [
       "<matplotlib.axes._subplots.AxesSubplot at 0x7f955a9cf450>"
      ]
     },
     "execution_count": 94,
     "metadata": {},
     "output_type": "execute_result"
    },
    {
     "data": {
      "image/png": "[encoded data removed]",
      "text/plain": [
       "<Figure size 432x288 with 1 Axes>"
      ]
     },
     "metadata": {
      "needs_background": "light"
     },
     "output_type": "display_data"
    }
   ],
   "source": [
    "#use this as rough work\n",
    "sns.barplot(x=\"Request_day_time\", y=\"Count\", hue = \"Pickup point\", data=df, estimator=np.sum)"
   ]
  },
  {
   "cell_type": "code",
   "execution_count": 104,
   "metadata": {},
   "outputs": [
    {
     "data": {
      "text/plain": [
       "1057"
      ]
     },
     "execution_count": 104,
     "metadata": {},
     "output_type": "execute_result"
    }
   ],
   "source": [
    "df[(df.Request_day_time == \"Morning\") & (df[\"Pickup point\"] == \"City\") & (df.Status == \"No Cars Available\")].Count.sum() + df[(df.Request_day_time == \"Morning\") & (df[\"Pickup point\"] == \"City\") & (df.Status == \"Cancelled\")].Count.sum()    \n",
    "\n"
   ]
  },
  {
   "cell_type": "code",
   "execution_count": 96,
   "metadata": {},
   "outputs": [
    {
     "data": {
      "text/plain": [
       "1296"
      ]
     },
     "execution_count": 96,
     "metadata": {},
     "output_type": "execute_result"
    }
   ],
   "source": [
    "len(df[(df.Request_day_time == \"Evening\") & (df[\"Pickup point\"] == \"Airport\")]) - len(df[(df.Request_day_time == \"Evening\") & (df[\"Pickup point\"] == \"Airport\") & (df.Status == \"Trip Completed\")]) \n"
   ]
  },
  {
   "cell_type": "markdown",
   "metadata": {},
   "source": [
    "## Q11. Demand Supply\n",
    "Now that you’ve understood the major issues in the morning and the evening time slots, it’s time to compute the demand and supply gap. Here,\n",
    "\n",
    "Demand - Number of Requests Uber Gets\n",
    "Supply - Number of Requests Uber is able to fulfil\n",
    "\n",
    "Demand supply gap = Demand - Supply.\n",
    "\n",
    "Compute the demand-supply gap for both the morning and the evening slots for the Pick-up points having the most number of requests in that time_slot\n",
    "\n",
    "\n",
    "a) Morning - 1205 Evening - 1427\n",
    "\n",
    "b) Morning - 1427 Evening - 1205\n",
    "\n",
    "c) Morning - 1249 Evening - 1558\n",
    "\n",
    "d) Morning - 1558 Evening - 1249\n"
   ]
  },
  {
   "cell_type": "code",
   "execution_count": 110,
   "metadata": {},
   "outputs": [
    {
     "data": {
      "text/html": [
       "<div>\n",
       "<style scoped>\n",
       "    .dataframe tbody tr th:only-of-type {\n",
       "        vertical-align: middle;\n",
       "    }\n",
       "\n",
       "    .dataframe tbody tr th {\n",
       "        vertical-align: top;\n",
       "    }\n",
       "\n",
       "    .dataframe thead th {\n",
       "        text-align: right;\n",
       "    }\n",
       "</style>\n",
       "<table border=\"1\" class=\"dataframe\">\n",
       "  <thead>\n",
       "    <tr style=\"text-align: right;\">\n",
       "      <th>Status</th>\n",
       "      <th>Cancelled</th>\n",
       "      <th>No Cars Available</th>\n",
       "      <th>Trip Completed</th>\n",
       "      <th>gap</th>\n",
       "    </tr>\n",
       "    <tr>\n",
       "      <th>Request_day_time</th>\n",
       "      <th></th>\n",
       "      <th></th>\n",
       "      <th></th>\n",
       "      <th></th>\n",
       "    </tr>\n",
       "  </thead>\n",
       "  <tbody>\n",
       "    <tr>\n",
       "      <th>EarlyMorning</th>\n",
       "      <td>6.0</td>\n",
       "      <td>121.0</td>\n",
       "      <td>165.0</td>\n",
       "      <td>127.0</td>\n",
       "    </tr>\n",
       "    <tr>\n",
       "      <th>Morning</th>\n",
       "      <td>28.0</td>\n",
       "      <td>31.0</td>\n",
       "      <td>350.0</td>\n",
       "      <td>59.0</td>\n",
       "    </tr>\n",
       "    <tr>\n",
       "      <th>DayTime</th>\n",
       "      <td>74.0</td>\n",
       "      <td>289.0</td>\n",
       "      <td>348.0</td>\n",
       "      <td>363.0</td>\n",
       "    </tr>\n",
       "    <tr>\n",
       "      <th>Evening</th>\n",
       "      <td>90.0</td>\n",
       "      <td>1206.0</td>\n",
       "      <td>379.0</td>\n",
       "      <td>1296.0</td>\n",
       "    </tr>\n",
       "    <tr>\n",
       "      <th>LateNight</th>\n",
       "      <td>NaN</td>\n",
       "      <td>36.0</td>\n",
       "      <td>62.0</td>\n",
       "      <td>NaN</td>\n",
       "    </tr>\n",
       "  </tbody>\n",
       "</table>\n",
       "</div>"
      ],
      "text/plain": [
       "Status            Cancelled  No Cars Available  Trip Completed     gap\n",
       "Request_day_time                                                      \n",
       "EarlyMorning            6.0              121.0           165.0   127.0\n",
       "Morning                28.0               31.0           350.0    59.0\n",
       "DayTime                74.0              289.0           348.0   363.0\n",
       "Evening                90.0             1206.0           379.0  1296.0\n",
       "LateNight               NaN               36.0            62.0     NaN"
      ]
     },
     "execution_count": 110,
     "metadata": {},
     "output_type": "execute_result"
    }
   ],
   "source": [
    "#write your code here\n",
    "demandsupply_City=pd.pivot_table(df[df['Pickup point']=='City'], values='Count', index='Request_day_time', columns ='Status', aggfunc=np.sum)\n",
    "demandsupply_Airport=pd.pivot_table(df[df['Pickup point']=='Airport'], values='Count', index='Request_day_time', columns ='Status', aggfunc=np.sum)\n",
    "demandsupply_City[\"gap\"] = demandsupply_City[\"Cancelled\"] + demandsupply_City[\"No Cars Available\"]\n",
    "demandsupply_City\n",
    "demandsupply_Airport[\"gap\"] = demandsupply_Airport[\"Cancelled\"] + demandsupply_Airport[\"No Cars Available\"]\n",
    "demandsupply_Airport"
   ]
  },
  {
   "cell_type": "code",
   "execution_count": null,
   "metadata": {},
   "outputs": [],
   "source": []
  },
  {
   "cell_type": "code",
   "execution_count": null,
   "metadata": {},
   "outputs": [],
   "source": []
  }
 ],
 "metadata": {
  "kernelspec": {
   "display_name": "Python 3",
   "language": "python",
   "name": "python3"
  },
  "language_info": {
   "codemirror_mode": {
    "name": "ipython",
    "version": 3
   },
   "file_extension": ".py",
   "mimetype": "text/x-python",
   "name": "python",
   "nbconvert_exporter": "python",
   "pygments_lexer": "ipython3",
   "version": "3.7.4"
  }
 },
 "nbformat": 4,
 "nbformat_minor": 2
}
